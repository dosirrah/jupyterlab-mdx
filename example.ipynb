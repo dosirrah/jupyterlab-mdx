{
 "cells": [
  {
   "cell_type": "markdown",
   "id": "38b69eea-4158-4ea5-8cce-ae1eed9f85dc",
   "metadata": {},
   "source": [
    "# @top_level Introduction\n",
    "\n",
    "We all want to read #top_level, and then proceed to #another_section.\n",
    "\n",
    "Flarum ipsor — te briligus calidarum,  \n",
    "Nobis frumious banderscrip quomodarum;  \n",
    "Tovis gyre et gimbolare in brum,  \n",
    "Uvae wabe concalefacta hum.  \n",
    "\n",
    "Lorem wocky jabberisque, stathlum fidelis,  \n",
    "Trivex draconis grypheus et mimsibilis;  \n",
    "Bewara scrimshawk varvulor glith,  \n",
    "Raptans snicker-snackam in nocte lith.  \n",
    "\n",
    "Quisque borogovi rasi, nunc rumpos flich,  \n",
    "Psyllum and vortix clompant glitch;  \n",
    "Flustric borex in tulgey shade,  \n",
    "Mirorum frumple quid nunc fade.  \n",
    "\n",
    "Sed ecce! — Gallumphat nunc heroius vir,  \n",
    "Vorpalem gladium vibrat, spir;  \n",
    "Prandialibus spathis clish-clash clang,  \n",
    "Per monsom momerantia clangor rang.  \n",
    "\n",
    "“Et tu, draculorum?” murmurat frum,  \n",
    "Quando manxome foe datum thrum;  \n",
    "Clatteribus flang, utrum snand wick,  \n",
    "Domo triumfum, squeeblum quick!  \n",
    "\n",
    "Reverso via, gallumphus proud,  \n",
    "Portans caput grimble, chorus loud;  \n",
    "“O frabjous dies!” pater clamat glee,  \n",
    "Caloo! Callay! in jubili spree.  \n",
    "\n",
    "Ita finem scrobble, legenda spun,  \n",
    "Sed textus noster nondum done;  \n",
    "Zilligant voxibus, lorum lisp,  \n",
    "Fillus paginum in nonsense crisp.  \n",
    "\n",
    "Thusly, reader curiosus, scribe est amat,  \n",
    "Foamish finifugal, glimmery chat;  \n",
    "Tremulo verba flibbert grous,  \n",
    "Lumin caligantia, tumblus sous.  \n",
    "\n",
    "Lorem jabber, ipsum wock,  \n",
    "Nunc peraudet clock-cock-knock;  \n",
    "Frush and slith, brabble in flux,  \n",
    "Tempus carpimus jabber-luxe.  \n",
    "\n",
    "So ends the pseudo-Latinate dream,  \n",
    "Half in shadow, half in gleam;  \n",
    "Let the nonsense ever spin—  \n",
    "For gibber’s glory dwells within. \n",
    "\n",
    "## @intro Introduction\n",
    "\n",
    "This is an introduction."
   ]
  },
  {
   "cell_type": "markdown",
   "id": "7fc457ae-b675-4960-86b0-664154ec0fba",
   "metadata": {},
   "source": [
    "# @another_section Review\n",
    "\n",
    "<center> @Figure:foo </center>\n",
    "\n",
    "In #Figure:foo we show a rare Lorem Ipsum."
   ]
  },
  {
   "cell_type": "markdown",
   "id": "99949c7a-67e0-4c69-bfb2-3f564cc20a0a",
   "metadata": {},
   "source": [
    "In a bouncing fervor the glupitous author roiled his spittly speech on the paper.\n",
    "\n",
    "To the unannointed, his words resembled fimblings and mupples.   No reason\n",
    "could be had.  As if his muse had repanged and repanged her head with a \n",
    "tholid book.  Druzzily she drovanded him until only redicully spasms of \n",
    "thought moistened the page.\n",
    "\n",
    "a\n",
    "b\n",
    "c\n",
    "d\n",
    "e\n",
    "f\n",
    "d\n",
    "g\n",
    "i\n",
    "\n",
    "Go to #top_level\n"
   ]
  },
  {
   "cell_type": "markdown",
   "id": "0b282853-98ed-431f-bf37-979ab8eb05d6",
   "metadata": {},
   "source": [
    "# @foo Third Section\n",
    "\n",
    "In the Section #top_level, we had not problem.  \n",
    "Look at Section #another_section."
   ]
  }
 ],
 "metadata": {
  "kernelspec": {
   "display_name": "Python 3 (ipykernel)",
   "language": "python",
   "name": "python3"
  },
  "language_info": {
   "codemirror_mode": {
    "name": "ipython",
    "version": 3
   },
   "file_extension": ".py",
   "mimetype": "text/x-python",
   "name": "python",
   "nbconvert_exporter": "python",
   "pygments_lexer": "ipython3",
   "version": "3.11.8"
  }
 },
 "nbformat": 4,
 "nbformat_minor": 5
}
