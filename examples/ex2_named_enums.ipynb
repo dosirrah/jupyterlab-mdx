{
 "cells": [
  {
   "cell_type": "markdown",
   "id": "b20406ce-e6cd-4e5f-9f46-3569f93f354f",
   "metadata": {},
   "source": [
    "## @intro Introduction \n",
    "\n",
    "When deriving the secrets of space time curvature modulation, we need to use equations:"
   ]
  },
  {
   "cell_type": "markdown",
   "id": "ef0921ab-9a36-44cb-ae27-212c96ffb8ab",
   "metadata": {},
   "source": [
    "$$x \\tag{@eq:dave}$$\n",
    "\n",
    "Where $d(c)$ is the Dave function.  It captures the ability to locally modulate the speed\n",
    "of light in a vacuum.\n",
    "\n",
    "In Equation #eq:dave, "
   ]
  },
  {
   "cell_type": "markdown",
   "id": "d5243e0f-c043-4693-a54e-ff63996dbe73",
   "metadata": {},
   "source": [
    "In the Section @intro, we presented the following:\n",
    "\n",
    "$$x^2 (@eq:foo)$$\n",
    "\n",
    "<center> Table @table:bar. Constants </center>\n",
    "\n",
    "| name | value |\n",
    "|------|-------|\n",
    "| a    |  10   |\n",
    "\n",
    "\n"
   ]
  },
  {
   "cell_type": "markdown",
   "id": "d8fbdae5-5594-493e-91f7-313687508852",
   "metadata": {},
   "source": [
    "In Table #table:bar, we introduce constants.\n"
   ]
  }
 ],
 "metadata": {
  "kernelspec": {
   "display_name": "Python 3 (ipykernel)",
   "language": "python",
   "name": "python3"
  },
  "language_info": {
   "codemirror_mode": {
    "name": "ipython",
    "version": 3
   },
   "file_extension": ".py",
   "mimetype": "text/x-python",
   "name": "python",
   "nbconvert_exporter": "python",
   "pygments_lexer": "ipython3",
   "version": "3.11.13"
  }
 },
 "nbformat": 4,
 "nbformat_minor": 5
}
