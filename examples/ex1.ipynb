{
 "cells": [
  {
   "cell_type": "markdown",
   "id": "f4ddce14-402d-4001-b29d-eec581bb9b76",
   "metadata": {},
   "source": [
    "# @intro Introduction"
   ]
  },
  {
   "cell_type": "markdown",
   "id": "26f8dd27-854d-47f4-bc0a-7ebb087d975c",
   "metadata": {
    "jp-MarkdownHeadingCollapsed": true
   },
   "source": [
    "$$f(x) = \\int x dx \\tag{@eq:foon}$$\n",
    "$$g(x) = 1 \\tag{@eq:bac}$$\n",
    "$$w(x) = 1 \\tag{@eq:bat}$$\n",
    "\n",
    "Gastointestinal black hole singularities were first discussed in ^smith2020."
   ]
  },
  {
   "cell_type": "markdown",
   "id": "90cbb3d1-3fe9-4919-871b-5b585476ad52",
   "metadata": {},
   "source": [
    "# @fooo Fooo\n",
    "\n",
    "In equation #eq:foon we define $f(x)$.  This is covered in ^lamport1994.\n",
    "\n",
    "In #slii\n",
    "\n"
   ]
  },
  {
   "cell_type": "markdown",
   "id": "4166c62a-2ede-4e24-912f-25ad29f2712a",
   "metadata": {},
   "source": [
    "Gastointestinal black hole singularities were first discussed in ^smith2020."
   ]
  },
  {
   "cell_type": "markdown",
   "id": "6e626393-75c1-4642-a0fa-889adbb6c0ea",
   "metadata": {},
   "source": [
    "# Bibliography\n",
    "\n",
    "::: bibliography\n",
    "src: ex.bib\n",
    ":::"
   ]
  }
 ],
 "metadata": {
  "kernelspec": {
   "display_name": "Python 3 (ipykernel)",
   "language": "python",
   "name": "python3"
  },
  "language_info": {
   "codemirror_mode": {
    "name": "ipython",
    "version": 3
   },
   "file_extension": ".py",
   "mimetype": "text/x-python",
   "name": "python",
   "nbconvert_exporter": "python",
   "pygments_lexer": "ipython3",
   "version": "3.11.13"
  }
 },
 "nbformat": 4,
 "nbformat_minor": 5
}
