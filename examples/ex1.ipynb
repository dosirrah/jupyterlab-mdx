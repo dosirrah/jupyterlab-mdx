{
 "cells": [
  {
   "cell_type": "markdown",
   "id": "f4ddce14-402d-4001-b29d-eec581bb9b76",
   "metadata": {
    "jp-MarkdownHeadingCollapsed": true
   },
   "source": [
    "# @intro Introduction"
   ]
  },
  {
   "cell_type": "markdown",
   "id": "26f8dd27-854d-47f4-bc0a-7ebb087d975c",
   "metadata": {
    "jp-MarkdownHeadingCollapsed": true
   },
   "source": [
    "$$f(x) = \\int x dx \\tag{@eq:foon}$$\n",
    "$$g(x) = 1 \\tag{@eq:bac}$$\n",
    "$$w(x) = 1 \\tag{@eq:bat}$$"
   ]
  },
  {
   "cell_type": "markdown",
   "id": "90cbb3d1-3fe9-4919-871b-5b585476ad52",
   "metadata": {},
   "source": [
    "# @fooo Fooo\n",
    "\n",
    "In equation #eq:foon we define $f(x)$.\n",
    "\n",
    "In #slii\n"
   ]
  }
 ],
 "metadata": {
  "kernelspec": {
   "display_name": "Python 3 (ipykernel)",
   "language": "python",
   "name": "python3"
  },
  "language_info": {
   "codemirror_mode": {
    "name": "ipython",
    "version": 3
   },
   "file_extension": ".py",
   "mimetype": "text/x-python",
   "name": "python",
   "nbconvert_exporter": "python",
   "pygments_lexer": "ipython3",
   "version": "3.11.13"
  }
 },
 "nbformat": 4,
 "nbformat_minor": 5
}
