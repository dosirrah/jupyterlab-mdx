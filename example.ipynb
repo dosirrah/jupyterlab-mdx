{
 "cells": [
  {
   "cell_type": "markdown",
   "id": "38b69eea-4158-4ea5-8cce-ae1eed9f85dc",
   "metadata": {},
   "source": [
    "# @top_level Introduction\n",
    "\n",
    "We all want to read #top_level, and then proceed to #another_section.\n",
    "\n",
    "## @intro Introduction\n",
    "\n",
    "This is an introduction."
   ]
  },
  {
   "cell_type": "markdown",
   "id": "7fc457ae-b675-4960-86b0-664154ec0fba",
   "metadata": {},
   "source": [
    "## @another_section Review\n",
    "\n",
    "<center> @Figure:foo </center>\n",
    "\n",
    "In #Figure:foo we show a rare Lorem Ipsum.\n"
   ]
  },
  {
   "cell_type": "code",
   "execution_count": null,
   "id": "796d7031-2fc7-4aba-9f68-145775471ab9",
   "metadata": {},
   "outputs": [],
   "source": []
  }
 ],
 "metadata": {
  "kernelspec": {
   "display_name": "Python 3 (ipykernel)",
   "language": "python",
   "name": "python3"
  },
  "language_info": {
   "codemirror_mode": {
    "name": "ipython",
    "version": 3
   },
   "file_extension": ".py",
   "mimetype": "text/x-python",
   "name": "python",
   "nbconvert_exporter": "python",
   "pygments_lexer": "ipython3",
   "version": "3.11.8"
  }
 },
 "nbformat": 4,
 "nbformat_minor": 5
}
